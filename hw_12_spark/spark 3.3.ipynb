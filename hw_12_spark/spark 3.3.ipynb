{
 "cells": [
  {
   "cell_type": "code",
   "execution_count": 1,
   "id": "d605deb7",
   "metadata": {},
   "outputs": [
    {
     "name": "stdout",
     "output_type": "stream",
     "text": [
      "Запущен Spark версии 3.3.1\n"
     ]
    }
   ],
   "source": [
    "## Задание 3.3 Команды spark\n",
    "\n",
    "from pyspark.sql import SparkSession\n",
    "from pyspark import SparkConf, SparkContext\n",
    "\n",
    "import pyspark.sql.types as T\n",
    "import pyspark.sql.functions as F\n",
    "\n",
    "from datetime import datetime\n",
    "\n",
    "conf = SparkConf()\n",
    "conf.setMaster(\"local\").setAppName('My app')\n",
    "\n",
    "sc = SparkContext.getOrCreate(conf=conf)\n",
    "spark = SparkSession(sc)\n",
    "\n",
    "\n",
    "print('Запущен Spark версии', spark.version)"
   ]
  },
  {
   "cell_type": "markdown",
   "id": "3129ec79",
   "metadata": {},
   "source": [
    "**Создайте схему будущего фрейма данных. Схема должна включать следующие атрибуты**\n",
    "       \n",
    "\n",
    "·   id -  уникальный идентификатор посетителя сайта. Тип – последовательность чисел фиксированной длины. Данное поле не является первичным ключом.\n",
    "\n",
    "·   timestamp – дата и время события в формате unix timestamp.\n",
    "\n",
    "·   type – тип события, значение из списка (факт посещения(visit), клик по визуальному элементу страницы(click), скролл(scroll), перед на другую страницу(move)).\n",
    "\n",
    "·   page_id – id текущей страницы. Тип - последовательность чисел фиксированной длины.\n",
    "\n",
    "·   tag – каждая страница с новостью размечается редакцией специальными тегами, которые отражают тематику конкретной новости со страницы. Возможный список тематик: политика, спорт, медицина и т.д.\n",
    "\n",
    "·   sign – наличие у пользователя личного кабинета. Значения – True/False."
   ]
  },
  {
   "cell_type": "code",
   "execution_count": 2,
   "id": "e6a476fe",
   "metadata": {},
   "outputs": [],
   "source": [
    "esquema = T.StructType([\n",
    "    T.StructField(\"id\", T.IntegerType(),False),\n",
    "    T.StructField(\"timestamp\", T.LongType(),True),\n",
    "    T.StructField(\"type\", T.StringType(),True),\n",
    "    T.StructField(\"page_id\", T.IntegerType(),True),\n",
    "    T.StructField(\"tag\", T.StringType(),True),\n",
    "    T.StructField(\"sing\", T.BooleanType(),True)\n",
    "])\n"
   ]
  },
  {
   "cell_type": "markdown",
   "id": "5e5ce0c4",
   "metadata": {},
   "source": [
    "**b. Создайте датафрейм с описанной выше схемой данных.**\n",
    "\n",
    "**c. Наполните датафрейм данными. Пример:**\n",
    "\n",
    "    (12345, 1667627426, \"click\", 101, \"Sport”, False)"
   ]
  },
  {
   "cell_type": "code",
   "execution_count": 3,
   "id": "75e5af39",
   "metadata": {},
   "outputs": [],
   "source": [
    "data     =[(1, 1637627426, \"visit\", 101, 'Sport', True),\n",
    "           (1, 1637621667, \"scroll\", 101, 'Sport', True),\n",
    "           (1, 1637621620, \"click\", 101, 'Sport', True),\n",
    "           (1, 1637621762, \"visit\", 102, 'Politics', True),\n",
    "           (1, 1637628565, \"click\", 102, 'Politics', True),\n",
    "           (1, 1637625861, \"visit\", 103, 'Sport', True),\n",
    "           (2, 1637628001, \"visit\", 104, 'Politics', True),\n",
    "           (2, 1637628201, \"scroll\", 104, 'Politics', True),\n",
    "           (2, 1637628151, \"click\", 104, 'Politics', True),\n",
    "           (2, 1638628200, \"visit\", 105, 'Business', True),\n",
    "           (2, 1638628226, \"click\", 105, 'Business', True),\n",
    "           (2, 1637628317, \"visit\", 106, 'Business', True),\n",
    "           (2, 1637628359, \"scroll\", 106, 'Business', True),\n",
    "           (3, 1637628422, \"visit\", 101, 'Sport', False),\n",
    "           (3, 1637828486, \"scroll\", 101, 'Sport', False),\n",
    "           (4, 1637628505, \"visit\", 106, 'Business', False),\n",
    "           (5, 1637628511, \"visit\", 101, 'Sport', True),\n",
    "           (5, 1637628901, \"click\", 101, 'Sport', True),\n",
    "           (4, 1637628926, \"visit\", 102, 'Politics', False),\n",
    "           (5, 1637628976, \"click\", 102, 'Politics', True),\n",
    "           (4, 1637999111, \"click\", 101, 'Politics', False),\n",
    "           (4, 1638888999, \"click\", 102, 'Politics', False)\n",
    "          ]\n",
    "\n",
    "df = spark.createDataFrame(data=data,schema=esquema)"
   ]
  },
  {
   "cell_type": "code",
   "execution_count": 4,
   "id": "66796e72",
   "metadata": {},
   "outputs": [],
   "source": [
    "df = df.select(*[i for i in df.columns if i != \"timestamp\"],\n",
    "                 F.from_unixtime(\"timestamp\").alias(\"event_time\"))"
   ]
  },
  {
   "cell_type": "code",
   "execution_count": 5,
   "id": "3c0f1483",
   "metadata": {},
   "outputs": [
    {
     "name": "stdout",
     "output_type": "stream",
     "text": [
      "+---+------+-------+--------+-----+-------------------+\n",
      "| id|  type|page_id|     tag| sing|         event_time|\n",
      "+---+------+-------+--------+-----+-------------------+\n",
      "|  1| visit|    101|   Sport| true|2021-11-23 07:30:26|\n",
      "|  1|scroll|    101|   Sport| true|2021-11-23 05:54:27|\n",
      "|  1| click|    101|   Sport| true|2021-11-23 05:53:40|\n",
      "|  1| visit|    102|Politics| true|2021-11-23 05:56:02|\n",
      "|  1| click|    102|Politics| true|2021-11-23 07:49:25|\n",
      "|  1| visit|    103|   Sport| true|2021-11-23 07:04:21|\n",
      "|  2| visit|    104|Politics| true|2021-11-23 07:40:01|\n",
      "|  2|scroll|    104|Politics| true|2021-11-23 07:43:21|\n",
      "|  2| click|    104|Politics| true|2021-11-23 07:42:31|\n",
      "|  2| visit|    105|Business| true|2021-12-04 21:30:00|\n",
      "|  2| click|    105|Business| true|2021-12-04 21:30:26|\n",
      "|  2| visit|    106|Business| true|2021-11-23 07:45:17|\n",
      "|  2|scroll|    106|Business| true|2021-11-23 07:45:59|\n",
      "|  3| visit|    101|   Sport|false|2021-11-23 07:47:02|\n",
      "|  3|scroll|    101|   Sport|false|2021-11-25 15:21:26|\n",
      "|  4| visit|    106|Business|false|2021-11-23 07:48:25|\n",
      "|  5| visit|    101|   Sport| true|2021-11-23 07:48:31|\n",
      "|  5| click|    101|   Sport| true|2021-11-23 07:55:01|\n",
      "|  4| visit|    102|Politics|false|2021-11-23 07:55:26|\n",
      "|  5| click|    102|Politics| true|2021-11-23 07:56:16|\n",
      "|  4| click|    101|Politics|false|2021-11-27 14:45:11|\n",
      "|  4| click|    102|Politics|false|2021-12-07 21:56:39|\n",
      "+---+------+-------+--------+-----+-------------------+\n",
      "\n"
     ]
    }
   ],
   "source": [
    "df.show(50)"
   ]
  },
  {
   "cell_type": "markdown",
   "id": "b3dd91ea",
   "metadata": {},
   "source": [
    "**Вывести топ-5 самых активных посетителей сайта**"
   ]
  },
  {
   "cell_type": "code",
   "execution_count": 6,
   "id": "4e618414",
   "metadata": {},
   "outputs": [
    {
     "name": "stdout",
     "output_type": "stream",
     "text": [
      "+---+-----+\n",
      "| id|count|\n",
      "+---+-----+\n",
      "|  2|    7|\n",
      "|  1|    6|\n",
      "|  4|    4|\n",
      "|  5|    3|\n",
      "|  3|    2|\n",
      "+---+-----+\n",
      "\n"
     ]
    }
   ],
   "source": [
    "df.groupby(\"id\").count().orderBy(\"count\",ascending=False).show(5)"
   ]
  },
  {
   "cell_type": "markdown",
   "id": "d64c849a",
   "metadata": {},
   "source": [
    "**Посчитать процент посетителей, у которых есть ЛК**"
   ]
  },
  {
   "cell_type": "code",
   "execution_count": 7,
   "id": "f658a2de",
   "metadata": {},
   "outputs": [],
   "source": [
    "persent = 100/(df.count()/df.filter(df.sing==True).count())"
   ]
  },
  {
   "cell_type": "code",
   "execution_count": 8,
   "id": "1c619c39",
   "metadata": {},
   "outputs": [
    {
     "name": "stdout",
     "output_type": "stream",
     "text": [
      "72.72727272727273 %\n"
     ]
    }
   ],
   "source": [
    "print(persent,'%')"
   ]
  },
  {
   "cell_type": "markdown",
   "id": "1fd349eb",
   "metadata": {},
   "source": [
    "**Вывести топ-5 страниц сайта по показателю общего кол-ва кликов на данной странице**"
   ]
  },
  {
   "cell_type": "code",
   "execution_count": 9,
   "id": "0e93bd1d",
   "metadata": {},
   "outputs": [
    {
     "name": "stdout",
     "output_type": "stream",
     "text": [
      "+-------+-----+\n",
      "|page_id|count|\n",
      "+-------+-----+\n",
      "|    101|    3|\n",
      "|    102|    3|\n",
      "|    105|    1|\n",
      "|    104|    1|\n",
      "+-------+-----+\n",
      "\n"
     ]
    }
   ],
   "source": [
    "df_click = df.filter(df.type==\"click\")\n",
    "df_click.groupBy(\"page_id\").count().orderBy(\"count\",ascending=False).show(5)"
   ]
  },
  {
   "cell_type": "markdown",
   "id": "693d73ef",
   "metadata": {},
   "source": [
    "**Добавьте столбец к фрейму данных со значением временного диапазона в рамках суток с размером окна – 4 часа(0-4, 4-8, 8-12 и т.д.)**"
   ]
  },
  {
   "cell_type": "code",
   "execution_count": 10,
   "id": "023821c1",
   "metadata": {},
   "outputs": [
    {
     "name": "stdout",
     "output_type": "stream",
     "text": [
      "+---+------+-------+--------+-----+-------------------+---+\n",
      "| id|  type|page_id|     tag| sing|         event_time|new|\n",
      "+---+------+-------+--------+-----+-------------------+---+\n",
      "|  1| visit|    101|   Sport| true|2021-11-23 07:30:26|  1|\n",
      "|  1|scroll|    101|   Sport| true|2021-11-23 05:54:27|  1|\n",
      "|  1| click|    101|   Sport| true|2021-11-23 05:53:40|  1|\n",
      "|  1| visit|    102|Politics| true|2021-11-23 05:56:02|  1|\n",
      "|  1| click|    102|Politics| true|2021-11-23 07:49:25|  1|\n",
      "|  1| visit|    103|   Sport| true|2021-11-23 07:04:21|  1|\n",
      "|  2| visit|    104|Politics| true|2021-11-23 07:40:01|  1|\n",
      "|  2|scroll|    104|Politics| true|2021-11-23 07:43:21|  1|\n",
      "|  2| click|    104|Politics| true|2021-11-23 07:42:31|  1|\n",
      "|  2| visit|    105|Business| true|2021-12-04 21:30:00|  5|\n",
      "|  2| click|    105|Business| true|2021-12-04 21:30:26|  5|\n",
      "|  2| visit|    106|Business| true|2021-11-23 07:45:17|  1|\n",
      "|  2|scroll|    106|Business| true|2021-11-23 07:45:59|  1|\n",
      "|  3| visit|    101|   Sport|false|2021-11-23 07:47:02|  1|\n",
      "|  3|scroll|    101|   Sport|false|2021-11-25 15:21:26|  3|\n",
      "|  4| visit|    106|Business|false|2021-11-23 07:48:25|  1|\n",
      "|  5| visit|    101|   Sport| true|2021-11-23 07:48:31|  1|\n",
      "|  5| click|    101|   Sport| true|2021-11-23 07:55:01|  1|\n",
      "|  4| visit|    102|Politics|false|2021-11-23 07:55:26|  1|\n",
      "|  5| click|    102|Politics| true|2021-11-23 07:56:16|  1|\n",
      "|  4| click|    101|Politics|false|2021-11-27 14:45:11|  3|\n",
      "|  4| click|    102|Politics|false|2021-12-07 21:56:39|  5|\n",
      "+---+------+-------+--------+-----+-------------------+---+\n",
      "\n"
     ]
    }
   ],
   "source": [
    "dfTime = df.withColumn(\"new\",F.floor(F.hour(\"event_time\") / F.lit(4)))\n",
    "dfTime.show(50)"
   ]
  },
  {
   "cell_type": "markdown",
   "id": "81e22baf",
   "metadata": {},
   "source": [
    "**Выведите временной промежуток на основе предыдущего задания, в течение которого было больше всего активностей на сайте.** "
   ]
  },
  {
   "cell_type": "code",
   "execution_count": 11,
   "id": "5843702f",
   "metadata": {},
   "outputs": [],
   "source": [
    "# cгруппируем результаты таблицы предыдущего задания по значениям столбца new\n",
    "df2 = dfTime.groupby(\"new\")\\\n",
    "    .agg(F.count(\"*\").alias(\"event_count\"))\\\n",
    "    .orderBy(\"event_count\",ascending=False)\n"
   ]
  },
  {
   "cell_type": "code",
   "execution_count": 12,
   "id": "9d72c40b",
   "metadata": {},
   "outputs": [
    {
     "name": "stderr",
     "output_type": "stream",
     "text": [
      "/home/peter/.local/lib/python3.10/site-packages/pyspark/sql/dataframe.py:229: FutureWarning: Deprecated in 2.0, use createOrReplaceTempView instead.\n",
      "  warnings.warn(\"Deprecated in 2.0, use createOrReplaceTempView instead.\", FutureWarning)\n"
     ]
    },
    {
     "name": "stdout",
     "output_type": "stream",
     "text": [
      "+---+\n",
      "|new|\n",
      "+---+\n",
      "|  1|\n",
      "+---+\n",
      "\n"
     ]
    }
   ],
   "source": [
    "df2.registerTempTable(\"df_table\")\n",
    "spark.sql(\"SELECT new FROM df_table WHERE event_count = (SELECT MAX(event_count) FROM df_table)\").show()"
   ]
  },
  {
   "cell_type": "markdown",
   "id": "0e75c91d",
   "metadata": {},
   "source": [
    "Создайте второй фрейм данных, который будет содержать информацию о ЛК посетителя сайта со следующим списком атрибутов\n",
    "\n",
    "    1. Id – уникальный идентификатор личного кабинета\n",
    "    2. User_id – уникальный идентификатор посетителя\n",
    "    3. ФИО посетителя\n",
    "    4. Дату рождения посетителя \n",
    "    5. Дата создания ЛК\n",
    "\n",
    " **Вывести фамилии посетителей, которые читали хотя бы одну новость про спорт.**"
   ]
  },
  {
   "cell_type": "code",
   "execution_count": 13,
   "id": "9b4415a2",
   "metadata": {},
   "outputs": [],
   "source": [
    "#cтруктура таблицы личного кабинета\n",
    "esquemaAreaPersonal = T.StructType([\n",
    "    T.StructField(\"id\", T.IntegerType(),True),\n",
    "    T.StructField(\"user_id\", T.IntegerType(),True),\n",
    "    T.StructField(\"fio\", T.StringType(),True),\n",
    "    T.StructField(\"dbd\", T.DateType(),True),\n",
    "    T.StructField(\"dpa\", T.DateType(),True),\n",
    "])\n",
    "\n",
    "from datetime import datetime\n",
    "\n",
    "# заполним данными\n",
    "data_ap = [\n",
    "    (101,1,\"Никифоров Август Арестович\",datetime.strptime(\"2000-05-05\", \"%Y-%m-%d\"),datetime.strptime(\"2021-10-29\", \"%Y-%m-%d\")),\n",
    "    (102,2,\"Кудимов Алексей Алексеевич\",datetime.strptime(\"1998-07-13\", \"%Y-%m-%d\"),datetime.strptime(\"2021-11-22\", \"%Y-%m-%d\")),\n",
    "    (105,5,\"Музин Владимир Владимирович\",datetime.strptime(\"1995-02-10\", \"%Y-%m-%d\"),datetime.strptime(\"2021-11-23\", \"%Y-%m-%d\"))\n",
    "]\n",
    "\n",
    "df_ap = spark.createDataFrame(data = data_ap, schema = esquemaAreaPersonal)"
   ]
  },
  {
   "cell_type": "code",
   "execution_count": 14,
   "id": "6f1988db",
   "metadata": {},
   "outputs": [
    {
     "name": "stdout",
     "output_type": "stream",
     "text": [
      "+---+-------+--------------------+----------+----------+\n",
      "| id|user_id|                 fio|       dbd|       dpa|\n",
      "+---+-------+--------------------+----------+----------+\n",
      "|101|      1|Никифоров Август ...|2000-05-05|2021-10-29|\n",
      "|102|      2|Кудимов Алексей А...|1998-07-13|2021-11-22|\n",
      "|105|      5|Музин Владимир Вл...|1995-02-10|2021-11-23|\n",
      "+---+-------+--------------------+----------+----------+\n",
      "\n"
     ]
    }
   ],
   "source": [
    "# таблица по личным кабинетам\n",
    "df_ap.show()"
   ]
  },
  {
   "cell_type": "code",
   "execution_count": 15,
   "id": "1c7671fe",
   "metadata": {},
   "outputs": [],
   "source": [
    "#объединенная таблица\n",
    "df_all = df_ap.alias(\"lk\").join(dfTime.alias(\"web\"),\n",
    "                               on = [F.col(\"lk.user_id\")==F.col(\"web.id\")],\n",
    "                               how = \"left\")"
   ]
  },
  {
   "cell_type": "code",
   "execution_count": 16,
   "id": "447b5243",
   "metadata": {},
   "outputs": [
    {
     "name": "stdout",
     "output_type": "stream",
     "text": [
      "+---+-------+--------------------+----------+----------+---+------+-------+--------+----+-------------------+---+\n",
      "| id|user_id|                 fio|       dbd|       dpa| id|  type|page_id|     tag|sing|         event_time|new|\n",
      "+---+-------+--------------------+----------+----------+---+------+-------+--------+----+-------------------+---+\n",
      "|101|      1|Никифоров Август ...|2000-05-05|2021-10-29|  1| visit|    103|   Sport|true|2021-11-23 07:04:21|  1|\n",
      "|101|      1|Никифоров Август ...|2000-05-05|2021-10-29|  1| click|    102|Politics|true|2021-11-23 07:49:25|  1|\n",
      "|101|      1|Никифоров Август ...|2000-05-05|2021-10-29|  1| visit|    102|Politics|true|2021-11-23 05:56:02|  1|\n",
      "|101|      1|Никифоров Август ...|2000-05-05|2021-10-29|  1| click|    101|   Sport|true|2021-11-23 05:53:40|  1|\n",
      "|101|      1|Никифоров Август ...|2000-05-05|2021-10-29|  1|scroll|    101|   Sport|true|2021-11-23 05:54:27|  1|\n",
      "|101|      1|Никифоров Август ...|2000-05-05|2021-10-29|  1| visit|    101|   Sport|true|2021-11-23 07:30:26|  1|\n",
      "|105|      5|Музин Владимир Вл...|1995-02-10|2021-11-23|  5| click|    102|Politics|true|2021-11-23 07:56:16|  1|\n",
      "|105|      5|Музин Владимир Вл...|1995-02-10|2021-11-23|  5| click|    101|   Sport|true|2021-11-23 07:55:01|  1|\n",
      "|105|      5|Музин Владимир Вл...|1995-02-10|2021-11-23|  5| visit|    101|   Sport|true|2021-11-23 07:48:31|  1|\n",
      "|102|      2|Кудимов Алексей А...|1998-07-13|2021-11-22|  2|scroll|    106|Business|true|2021-11-23 07:45:59|  1|\n",
      "|102|      2|Кудимов Алексей А...|1998-07-13|2021-11-22|  2| visit|    106|Business|true|2021-11-23 07:45:17|  1|\n",
      "|102|      2|Кудимов Алексей А...|1998-07-13|2021-11-22|  2| click|    105|Business|true|2021-12-04 21:30:26|  5|\n",
      "|102|      2|Кудимов Алексей А...|1998-07-13|2021-11-22|  2| visit|    105|Business|true|2021-12-04 21:30:00|  5|\n",
      "|102|      2|Кудимов Алексей А...|1998-07-13|2021-11-22|  2| click|    104|Politics|true|2021-11-23 07:42:31|  1|\n",
      "|102|      2|Кудимов Алексей А...|1998-07-13|2021-11-22|  2|scroll|    104|Politics|true|2021-11-23 07:43:21|  1|\n",
      "|102|      2|Кудимов Алексей А...|1998-07-13|2021-11-22|  2| visit|    104|Politics|true|2021-11-23 07:40:01|  1|\n",
      "+---+-------+--------------------+----------+----------+---+------+-------+--------+----+-------------------+---+\n",
      "\n"
     ]
    }
   ],
   "source": [
    "df_all.show(100)"
   ]
  },
  {
   "cell_type": "code",
   "execution_count": 17,
   "id": "6cdb59e9",
   "metadata": {},
   "outputs": [
    {
     "name": "stdout",
     "output_type": "stream",
     "text": [
      "+--------------------+\n",
      "|                 fio|\n",
      "+--------------------+\n",
      "|Никифоров Август ...|\n",
      "|Музин Владимир Вл...|\n",
      "+--------------------+\n",
      "\n"
     ]
    }
   ],
   "source": [
    "#Вывести фамилии посетителей, которые читали хотя бы одну новость про спорт.\n",
    "df_all.registerTempTable(\"df_table\")\n",
    "spark.sql(\"SELECT DISTINCT fio FROM df_table WHERE tag = 'Sport' AND type = 'visit'\").show()\n"
   ]
  },
  {
   "cell_type": "markdown",
   "id": "b7e2fae2",
   "metadata": {},
   "source": [
    "**Выведите 10% ЛК, у которых максимальная разница между датой создания ЛК и датой последнего посещения.** "
   ]
  },
  {
   "cell_type": "code",
   "execution_count": 18,
   "id": "5d72451f",
   "metadata": {},
   "outputs": [
    {
     "name": "stdout",
     "output_type": "stream",
     "text": [
      "+-------+-------------+\n",
      "|user_id|max(datediff)|\n",
      "+-------+-------------+\n",
      "|      1|           25|\n",
      "|      5|            0|\n",
      "|      2|           12|\n",
      "+-------+-------------+\n",
      "\n"
     ]
    }
   ],
   "source": [
    "df1 = df_all.select(\n",
    "      F.col(\"user_id\"),  \n",
    "      F.col(\"dpa\"),\n",
    "      F.col(\"event_time\"),  \n",
    "      F.datediff(F.col(\"event_time\"),F.col(\"dpa\")).alias(\"datediff\"))\n",
    "\n",
    "\n",
    "df1.groupby(\"user_id\").max(\"datediff\").show()"
   ]
  },
  {
   "cell_type": "code",
   "execution_count": 19,
   "id": "a7945cff",
   "metadata": {},
   "outputs": [],
   "source": [
    "# пользовательская функция определения пола\n",
    "def getGender(fio):\n",
    "    surname, name, middlename = fio.split(\" \")\n",
    "    if (((surname[-2:] == \"ов\") or (surname[-2:] == \"ев\")) and (middlename[-3:] == \"вич\")):\n",
    "        return \"m\"\n",
    "    else:\n",
    "        return \"w\""
   ]
  },
  {
   "cell_type": "code",
   "execution_count": null,
   "id": "9c051f0e",
   "metadata": {},
   "outputs": [],
   "source": []
  }
 ],
 "metadata": {
  "kernelspec": {
   "display_name": "Python 3 (ipykernel)",
   "language": "python",
   "name": "python3"
  },
  "language_info": {
   "codemirror_mode": {
    "name": "ipython",
    "version": 3
   },
   "file_extension": ".py",
   "mimetype": "text/x-python",
   "name": "python",
   "nbconvert_exporter": "python",
   "pygments_lexer": "ipython3",
   "version": "3.10.6"
  }
 },
 "nbformat": 4,
 "nbformat_minor": 5
}
