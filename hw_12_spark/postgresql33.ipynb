{
 "cells": [
  {
   "cell_type": "code",
   "execution_count": 1,
   "id": "f4efd5ca",
   "metadata": {},
   "outputs": [
    {
     "name": "stdout",
     "output_type": "stream",
     "text": [
      "22/12/07 16:19:15 WARN SparkSession: Using an existing Spark session; only runtime SQL configurations will take effect.\n"
     ]
    }
   ],
   "source": [
    "## Задание 3.3 Команды spark. Обработка данных postgres\n",
    "\n",
    "from pyspark.sql import SparkSession\n",
    "import pyspark.sql.types as T\n",
    "import pyspark.sql.functions as F\n",
    "import os\n",
    "\n",
    "#os.environ[\"JAVA_HOME\"] = \"/usr/lib/jvm/java-11-openjdk-amd64\"\n",
    "\n",
    "from datetime import datetime\n",
    "\n",
    "spark = SparkSession \\\n",
    "    .builder \\\n",
    "    .appName(\"Python Spark SQL basic example\") \\\n",
    "    .config(\"spark.jars\", \"/opt/spark/jars/postgresql-42.5.1.jar\") \\\n",
    "    .config(\"spark.driver.bindAddress\",\"localhost\") \\\n",
    "    .config(\"spark.ui.port\",\"4040\") \\\n",
    "    .getOrCreate()\n",
    "\n",
    "\n",
    "web = spark.read \\\n",
    "    .format(\"jdbc\") \\\n",
    "    .option(\"url\", \"jdbc:postgresql://localhost:5432/Test\") \\\n",
    "    .option(\"dbtable\", \"web\") \\\n",
    "    .option(\"user\", \"postgres\") \\\n",
    "    .option(\"password\", \"postgres\") \\\n",
    "    .option(\"driver\", \"org.postgresql.Driver\") \\\n",
    "    .load()\n",
    "\n",
    "\n",
    "lk = spark.read \\\n",
    "    .format(\"jdbc\") \\\n",
    "    .option(\"url\", \"jdbc:postgresql://localhost:5432/Test\") \\\n",
    "    .option(\"dbtable\", \"lk\") \\\n",
    "    .option(\"user\", \"postgres\") \\\n",
    "    .option(\"password\", \"postgres\") \\\n",
    "    .option(\"driver\", \"org.postgresql.Driver\") \\\n",
    "    .load()\n"
   ]
  },
  {
   "cell_type": "code",
   "execution_count": 2,
   "id": "ec1d6599",
   "metadata": {},
   "outputs": [
    {
     "name": "stdout",
     "output_type": "stream",
     "text": [
      "root\n",
      " |-- id: integer (nullable = true)\n",
      " |-- timestamp: long (nullable = true)\n",
      " |-- type: string (nullable = true)\n",
      " |-- page_id: integer (nullable = true)\n",
      " |-- tag: string (nullable = true)\n",
      " |-- sign: boolean (nullable = true)\n",
      "\n",
      "+---+----------+------+-------+--------+-----+\n",
      "| id| timestamp|  type|page_id|     tag| sign|\n",
      "+---+----------+------+-------+--------+-----+\n",
      "|  1|1637627426| visit|    101|   Sport| true|\n",
      "|  1|1637621667|scroll|    101|   Sport| true|\n",
      "|  1|1637621620| click|    101|   Sport| true|\n",
      "|  1|1637621762| visit|    102|Politics| true|\n",
      "|  1|1637628565| click|    102|Politics| true|\n",
      "|  1|1637625861| visit|    103|   Sport| true|\n",
      "|  2|1637628001| visit|    104|Politics| true|\n",
      "|  2|1637628201| scrol|    104|Politics| true|\n",
      "|  2|1637628151| click|    104|Politics| true|\n",
      "|  2|1638628200| visit|    105|Business| true|\n",
      "|  2|1638628226| click|    105|Business| true|\n",
      "|  2|1637628317| visit|    106|Business| true|\n",
      "|  2|1637628359| scrol|    106|Business| true|\n",
      "|  3|1637628422| visit|    101|   Sport|false|\n",
      "|  3|1637828486|scroll|    101|   Sport|false|\n",
      "|  4|1637628505| visit|    106|Business|false|\n",
      "|  5|1637628511| visit|    101|   Sport| true|\n",
      "|  5|1637628901| click|    101|   Sport| true|\n",
      "|  4|1637628926| visit|    102|Politics|false|\n",
      "|  5|1637628976| click|    102|Politics| true|\n",
      "|  4|1637999111| click|    101|Politics|false|\n",
      "|  4|1638888999| click|    102|Politics|false|\n",
      "+---+----------+------+-------+--------+-----+\n",
      "\n"
     ]
    }
   ],
   "source": [
    "web.printSchema()\n",
    "web.show(50)"
   ]
  },
  {
   "cell_type": "code",
   "execution_count": 3,
   "id": "923699c0",
   "metadata": {},
   "outputs": [
    {
     "name": "stdout",
     "output_type": "stream",
     "text": [
      "root\n",
      " |-- id: integer (nullable = true)\n",
      " |-- user_id: integer (nullable = true)\n",
      " |-- fio: string (nullable = true)\n",
      " |-- dbd: date (nullable = true)\n",
      " |-- dpa: timestamp (nullable = true)\n",
      "\n",
      "+---+-------+--------------------+----------+-------------------+\n",
      "| id|user_id|                 fio|       dbd|                dpa|\n",
      "+---+-------+--------------------+----------+-------------------+\n",
      "|101|      1|Никифоров Август ...|2000-05-05|2021-10-29 00:00:00|\n",
      "|102|      2|Кудимов Алексей А...|1998-07-13|2021-11-22 00:00:00|\n",
      "|105|      5|Музин Владимир Вл...|1995-02-10|2021-11-23 00:00:00|\n",
      "+---+-------+--------------------+----------+-------------------+\n",
      "\n"
     ]
    }
   ],
   "source": [
    "lk.printSchema()\n",
    "lk.show(50)"
   ]
  },
  {
   "cell_type": "code",
   "execution_count": 4,
   "id": "00557af9",
   "metadata": {},
   "outputs": [],
   "source": [
    "#преобразуем timestamp в формат времени\n",
    "web = web.select(*[i for i in web.columns if i != \"timestamp\"],\n",
    "                 F.from_unixtime(\"timestamp\").alias(\"event_time\"))\n",
    "\n",
    "# переименование колонок\n",
    "web = web.withColumnRenamed(\"id\",\"web_id\")\n",
    "lk = lk.withColumnRenamed(\"id\",\"lk_id\")"
   ]
  },
  {
   "cell_type": "code",
   "execution_count": 5,
   "id": "31dee1bb",
   "metadata": {
    "scrolled": false
   },
   "outputs": [
    {
     "name": "stdout",
     "output_type": "stream",
     "text": [
      "+------+------+-------+--------+-----+-------------------+\n",
      "|web_id|  type|page_id|     tag| sign|         event_time|\n",
      "+------+------+-------+--------+-----+-------------------+\n",
      "|     1| visit|    101|   Sport| true|2021-11-23 07:30:26|\n",
      "|     1|scroll|    101|   Sport| true|2021-11-23 05:54:27|\n",
      "|     1| click|    101|   Sport| true|2021-11-23 05:53:40|\n",
      "|     1| visit|    102|Politics| true|2021-11-23 05:56:02|\n",
      "|     1| click|    102|Politics| true|2021-11-23 07:49:25|\n",
      "|     1| visit|    103|   Sport| true|2021-11-23 07:04:21|\n",
      "|     2| visit|    104|Politics| true|2021-11-23 07:40:01|\n",
      "|     2| scrol|    104|Politics| true|2021-11-23 07:43:21|\n",
      "|     2| click|    104|Politics| true|2021-11-23 07:42:31|\n",
      "|     2| visit|    105|Business| true|2021-12-04 21:30:00|\n",
      "|     2| click|    105|Business| true|2021-12-04 21:30:26|\n",
      "|     2| visit|    106|Business| true|2021-11-23 07:45:17|\n",
      "|     2| scrol|    106|Business| true|2021-11-23 07:45:59|\n",
      "|     3| visit|    101|   Sport|false|2021-11-23 07:47:02|\n",
      "|     3|scroll|    101|   Sport|false|2021-11-25 15:21:26|\n",
      "|     4| visit|    106|Business|false|2021-11-23 07:48:25|\n",
      "|     5| visit|    101|   Sport| true|2021-11-23 07:48:31|\n",
      "|     5| click|    101|   Sport| true|2021-11-23 07:55:01|\n",
      "|     4| visit|    102|Politics|false|2021-11-23 07:55:26|\n",
      "|     5| click|    102|Politics| true|2021-11-23 07:56:16|\n",
      "+------+------+-------+--------+-----+-------------------+\n",
      "only showing top 20 rows\n",
      "\n",
      "+-----+-------+--------------------+----------+-------------------+\n",
      "|lk_id|user_id|                 fio|       dbd|                dpa|\n",
      "+-----+-------+--------------------+----------+-------------------+\n",
      "|  101|      1|Никифоров Август ...|2000-05-05|2021-10-29 00:00:00|\n",
      "|  102|      2|Кудимов Алексей А...|1998-07-13|2021-11-22 00:00:00|\n",
      "|  105|      5|Музин Владимир Вл...|1995-02-10|2021-11-23 00:00:00|\n",
      "+-----+-------+--------------------+----------+-------------------+\n",
      "\n"
     ]
    }
   ],
   "source": [
    "web.show()\n",
    "lk.show()"
   ]
  },
  {
   "cell_type": "markdown",
   "id": "93a6732e",
   "metadata": {},
   "source": [
    "**Добавьте столбец к фрейму данных со значением временного диапазона в рамках суток с размером окна – 4 часа(0-4, 4-8, 8-12 и т.д.)**"
   ]
  },
  {
   "cell_type": "code",
   "execution_count": 6,
   "id": "85e10997",
   "metadata": {},
   "outputs": [
    {
     "name": "stdout",
     "output_type": "stream",
     "text": [
      "+------+------+-------+--------+-----+-------------------+-----------+\n",
      "|web_id|  type|page_id|     tag| sign|         event_time|time_period|\n",
      "+------+------+-------+--------+-----+-------------------+-----------+\n",
      "|     1| visit|    101|   Sport| true|2021-11-23 07:30:26|          1|\n",
      "|     1|scroll|    101|   Sport| true|2021-11-23 05:54:27|          1|\n",
      "|     1| click|    101|   Sport| true|2021-11-23 05:53:40|          1|\n",
      "|     1| visit|    102|Politics| true|2021-11-23 05:56:02|          1|\n",
      "|     1| click|    102|Politics| true|2021-11-23 07:49:25|          1|\n",
      "|     1| visit|    103|   Sport| true|2021-11-23 07:04:21|          1|\n",
      "|     2| visit|    104|Politics| true|2021-11-23 07:40:01|          1|\n",
      "|     2| scrol|    104|Politics| true|2021-11-23 07:43:21|          1|\n",
      "|     2| click|    104|Politics| true|2021-11-23 07:42:31|          1|\n",
      "|     2| visit|    105|Business| true|2021-12-04 21:30:00|          5|\n",
      "|     2| click|    105|Business| true|2021-12-04 21:30:26|          5|\n",
      "|     2| visit|    106|Business| true|2021-11-23 07:45:17|          1|\n",
      "|     2| scrol|    106|Business| true|2021-11-23 07:45:59|          1|\n",
      "|     3| visit|    101|   Sport|false|2021-11-23 07:47:02|          1|\n",
      "|     3|scroll|    101|   Sport|false|2021-11-25 15:21:26|          3|\n",
      "|     4| visit|    106|Business|false|2021-11-23 07:48:25|          1|\n",
      "|     5| visit|    101|   Sport| true|2021-11-23 07:48:31|          1|\n",
      "|     5| click|    101|   Sport| true|2021-11-23 07:55:01|          1|\n",
      "|     4| visit|    102|Politics|false|2021-11-23 07:55:26|          1|\n",
      "|     5| click|    102|Politics| true|2021-11-23 07:56:16|          1|\n",
      "+------+------+-------+--------+-----+-------------------+-----------+\n",
      "only showing top 20 rows\n",
      "\n"
     ]
    }
   ],
   "source": [
    "web = web.withColumn(\"time_period\",F.floor(F.hour(\"event_time\") / F.lit(4)))\n",
    "web.show()"
   ]
  },
  {
   "cell_type": "markdown",
   "id": "829da71d",
   "metadata": {},
   "source": [
    "**Создайте витрину данных в Postgres со следующим содержанием**\n",
    "\n",
    "1.       Id посетителя\n",
    "2.       Возраст посетителя\n",
    "3.       Пол посетителя (постарайтесь описать логику вычисления пола в отдельной пользовательской функции)\n",
    "4.       Любимая тематика новостей\n",
    "5.       Любимый временной диапазон посещений\n",
    "6.       Id личного кабинета\n",
    "7.       Разница в днях между созданием ЛК и датой последнего посещения. (-1 если ЛК нет)\n",
    "8.       Общее кол-во посещений сайта\n",
    "9.       Средняя длина сессии(сессией считаем временной промежуток, который охватывает последовательность событий, которые происходили подряд с разницей не более 5 минут).\n",
    "10.   Среднее кол-во активностей в рамках одной сессии"
   ]
  },
  {
   "cell_type": "code",
   "execution_count": 7,
   "id": "41cf5f3d",
   "metadata": {},
   "outputs": [],
   "source": [
    "from pyspark.sql.functions import udf"
   ]
  },
  {
   "cell_type": "code",
   "execution_count": 8,
   "id": "2bffd8c5",
   "metadata": {},
   "outputs": [],
   "source": [
    "# пользовательская функция определения пола \n",
    "@udf(T.StringType())\n",
    "def getGender(fio):\n",
    "    if fio is None:\n",
    "        return None\n",
    "    surname, name, middlename = fio.split(\" \")\n",
    "    if ((surname[-2:] == \"ов\") or (surname[-2:] == \"ев\") or (middlename[-3:] == \"вич\")):\n",
    "        return \"m\"\n",
    "    else:\n",
    "        return \"w\""
   ]
  },
  {
   "cell_type": "markdown",
   "id": "1bf145b4",
   "metadata": {},
   "source": [
    "### 2. возраст"
   ]
  },
  {
   "cell_type": "code",
   "execution_count": 9,
   "id": "327b215a",
   "metadata": {
    "scrolled": true
   },
   "outputs": [
    {
     "name": "stdout",
     "output_type": "stream",
     "text": [
      "+-----+-------+--------------------+----------+-------------------+---+\n",
      "|lk_id|user_id|                 fio|       dbd|                dpa|age|\n",
      "+-----+-------+--------------------+----------+-------------------+---+\n",
      "|  101|      1|Никифоров Август ...|2000-05-05|2021-10-29 00:00:00| 22|\n",
      "|  102|      2|Кудимов Алексей А...|1998-07-13|2021-11-22 00:00:00| 24|\n",
      "|  105|      5|Музин Владимир Вл...|1995-02-10|2021-11-23 00:00:00| 27|\n",
      "+-----+-------+--------------------+----------+-------------------+---+\n",
      "\n"
     ]
    }
   ],
   "source": [
    "# определим возраст пользователя\n",
    "lk = lk.withColumn(\"age\",F.floor(F.datediff(F.current_date(),F.col(\"dbd\"))/365.25))\n",
    "lk.show()"
   ]
  },
  {
   "cell_type": "code",
   "execution_count": 10,
   "id": "eaf5d72f",
   "metadata": {},
   "outputs": [],
   "source": [
    "\n",
    "# соединим 2 набора данных full_outer join\n",
    "df_all=lk.alias(\"lk\").join(web.alias(\"web\"),\n",
    "                          on = [F.col(\"lk.user_id\")==F.col(\"web_id\")],\n",
    "                          how = \"full_outer\")"
   ]
  },
  {
   "cell_type": "code",
   "execution_count": 11,
   "id": "5d2c2ac6",
   "metadata": {
    "scrolled": true
   },
   "outputs": [
    {
     "name": "stdout",
     "output_type": "stream",
     "text": [
      "+-----+-------+--------------------+----------+-------------------+---+------+------+-------+--------+----+-------------------+-----------+\n",
      "|lk_id|user_id|                 fio|       dbd|                dpa|age|web_id|  type|page_id|     tag|sign|         event_time|time_period|\n",
      "+-----+-------+--------------------+----------+-------------------+---+------+------+-------+--------+----+-------------------+-----------+\n",
      "|  101|      1|Никифоров Август ...|2000-05-05|2021-10-29 00:00:00| 22|     1| visit|    101|   Sport|true|2021-11-23 07:30:26|          1|\n",
      "|  101|      1|Никифоров Август ...|2000-05-05|2021-10-29 00:00:00| 22|     1|scroll|    101|   Sport|true|2021-11-23 05:54:27|          1|\n",
      "|  101|      1|Никифоров Август ...|2000-05-05|2021-10-29 00:00:00| 22|     1| click|    101|   Sport|true|2021-11-23 05:53:40|          1|\n",
      "|  101|      1|Никифоров Август ...|2000-05-05|2021-10-29 00:00:00| 22|     1| visit|    102|Politics|true|2021-11-23 05:56:02|          1|\n",
      "|  101|      1|Никифоров Август ...|2000-05-05|2021-10-29 00:00:00| 22|     1| click|    102|Politics|true|2021-11-23 07:49:25|          1|\n",
      "+-----+-------+--------------------+----------+-------------------+---+------+------+-------+--------+----+-------------------+-----------+\n",
      "only showing top 5 rows\n",
      "\n"
     ]
    }
   ],
   "source": [
    "df_all.show(5)"
   ]
  },
  {
   "cell_type": "code",
   "execution_count": 12,
   "id": "bf17281b",
   "metadata": {},
   "outputs": [
    {
     "name": "stdout",
     "output_type": "stream",
     "text": [
      "+-----+-------+--------------------+----------+-------------------+----+------+------+-------+--------+-----+-------------------+-----------+----+\n",
      "|lk_id|user_id|                 fio|       dbd|                dpa| age|web_id|  type|page_id|     tag| sign|         event_time|time_period| sex|\n",
      "+-----+-------+--------------------+----------+-------------------+----+------+------+-------+--------+-----+-------------------+-----------+----+\n",
      "|  101|      1|Никифоров Август ...|2000-05-05|2021-10-29 00:00:00|  22|     1| visit|    101|   Sport| true|2021-11-23 07:30:26|          1|   m|\n",
      "|  101|      1|Никифоров Август ...|2000-05-05|2021-10-29 00:00:00|  22|     1|scroll|    101|   Sport| true|2021-11-23 05:54:27|          1|   m|\n",
      "|  101|      1|Никифоров Август ...|2000-05-05|2021-10-29 00:00:00|  22|     1| click|    101|   Sport| true|2021-11-23 05:53:40|          1|   m|\n",
      "|  101|      1|Никифоров Август ...|2000-05-05|2021-10-29 00:00:00|  22|     1| visit|    102|Politics| true|2021-11-23 05:56:02|          1|   m|\n",
      "|  101|      1|Никифоров Август ...|2000-05-05|2021-10-29 00:00:00|  22|     1| click|    102|Politics| true|2021-11-23 07:49:25|          1|   m|\n",
      "|  101|      1|Никифоров Август ...|2000-05-05|2021-10-29 00:00:00|  22|     1| visit|    103|   Sport| true|2021-11-23 07:04:21|          1|   m|\n",
      "|  102|      2|Кудимов Алексей А...|1998-07-13|2021-11-22 00:00:00|  24|     2| visit|    104|Politics| true|2021-11-23 07:40:01|          1|   m|\n",
      "|  102|      2|Кудимов Алексей А...|1998-07-13|2021-11-22 00:00:00|  24|     2| scrol|    104|Politics| true|2021-11-23 07:43:21|          1|   m|\n",
      "|  102|      2|Кудимов Алексей А...|1998-07-13|2021-11-22 00:00:00|  24|     2| click|    104|Politics| true|2021-11-23 07:42:31|          1|   m|\n",
      "|  102|      2|Кудимов Алексей А...|1998-07-13|2021-11-22 00:00:00|  24|     2| visit|    105|Business| true|2021-12-04 21:30:00|          5|   m|\n",
      "|  102|      2|Кудимов Алексей А...|1998-07-13|2021-11-22 00:00:00|  24|     2| click|    105|Business| true|2021-12-04 21:30:26|          5|   m|\n",
      "|  102|      2|Кудимов Алексей А...|1998-07-13|2021-11-22 00:00:00|  24|     2| visit|    106|Business| true|2021-11-23 07:45:17|          1|   m|\n",
      "|  102|      2|Кудимов Алексей А...|1998-07-13|2021-11-22 00:00:00|  24|     2| scrol|    106|Business| true|2021-11-23 07:45:59|          1|   m|\n",
      "| null|   null|                null|      null|               null|null|     3| visit|    101|   Sport|false|2021-11-23 07:47:02|          1|null|\n",
      "| null|   null|                null|      null|               null|null|     3|scroll|    101|   Sport|false|2021-11-25 15:21:26|          3|null|\n",
      "| null|   null|                null|      null|               null|null|     4| visit|    106|Business|false|2021-11-23 07:48:25|          1|null|\n",
      "| null|   null|                null|      null|               null|null|     4| visit|    102|Politics|false|2021-11-23 07:55:26|          1|null|\n",
      "| null|   null|                null|      null|               null|null|     4| click|    101|Politics|false|2021-11-27 14:45:11|          3|null|\n",
      "| null|   null|                null|      null|               null|null|     4| click|    102|Politics|false|2021-12-07 21:56:39|          5|null|\n",
      "|  105|      5|Музин Владимир Вл...|1995-02-10|2021-11-23 00:00:00|  27|     5| visit|    101|   Sport| true|2021-11-23 07:48:31|          1|   m|\n",
      "|  105|      5|Музин Владимир Вл...|1995-02-10|2021-11-23 00:00:00|  27|     5| click|    101|   Sport| true|2021-11-23 07:55:01|          1|   m|\n",
      "|  105|      5|Музин Владимир Вл...|1995-02-10|2021-11-23 00:00:00|  27|     5| click|    102|Politics| true|2021-11-23 07:56:16|          1|   m|\n",
      "+-----+-------+--------------------+----------+-------------------+----+------+------+-------+--------+-----+-------------------+-----------+----+\n",
      "\n"
     ]
    }
   ],
   "source": [
    "# добавим к нашей таблице пол посетителя\n",
    "df_all = df_all.withColumn(\"sex\",getGender(F.col(\"fio\")))\n",
    "df_all.show(50)"
   ]
  },
  {
   "cell_type": "code",
   "execution_count": 13,
   "id": "b636e0ee",
   "metadata": {},
   "outputs": [
    {
     "name": "stdout",
     "output_type": "stream",
     "text": [
      "+-------+--------+-----------+\n",
      "|user_id|     tag|count_click|\n",
      "+-------+--------+-----------+\n",
      "|   null|Business|          1|\n",
      "|   null|Politics|          3|\n",
      "|   null|   Sport|          1|\n",
      "|      1|Politics|          2|\n",
      "|      1|   Sport|          3|\n",
      "|      2|Business|          3|\n",
      "|      2|Politics|          2|\n",
      "|      5|Politics|          1|\n",
      "|      5|   Sport|          2|\n",
      "+-------+--------+-----------+\n",
      "\n"
     ]
    }
   ],
   "source": [
    "#любимая тематика новостей\n",
    "# подсчитывается самая посещаемая(visit+click) тематика по пользователю\n",
    "\n",
    "#выберим клики и визиты\n",
    "df_click = df_all.where((df_all.type== \"click\") | (df_all.type == \"visit\")) \\\n",
    "    .groupBy(\"user_id\",\"tag\").count().orderBy(\"user_id\",\"tag\")\n",
    "\n",
    "# переименуем столбец\n",
    "df_click = df_click.withColumnRenamed(\"count\",\"count_click\")\n",
    "df_click.show()\n",
    "\n",
    "# **** запись df в postgres ******\n",
    "# df_click.write.format(\"jdbc\")\\\n",
    "#     .option(\"url\", \"jdbc:postgresql://localhost:5432/Test\") \\\n",
    "#     .option(\"driver\", \"org.postgresql.Driver\").option(\"dbtable\", \"dfclick\") \\\n",
    "#     .option(\"user\", \"postgres\").option(\"password\", \"postgres\").save()\n",
    "\n"
   ]
  },
  {
   "cell_type": "code",
   "execution_count": 14,
   "id": "53bf96f9",
   "metadata": {},
   "outputs": [],
   "source": [
    "df_a = df_click\n",
    "df_b = df_click.groupBy(\"user_id\").agg(F.max(\"count_click\").alias(\"count_click\"))\n"
   ]
  },
  {
   "cell_type": "code",
   "execution_count": 15,
   "id": "16b7a054",
   "metadata": {},
   "outputs": [
    {
     "name": "stdout",
     "output_type": "stream",
     "text": [
      "+-------+--------+-----------+\n",
      "|user_id|     tag|count_click|\n",
      "+-------+--------+-----------+\n",
      "|      1|Politics|          2|\n",
      "|      1|   Sport|          3|\n",
      "|      2|Business|          3|\n",
      "|      2|Politics|          2|\n",
      "|      5|Politics|          1|\n",
      "|      5|   Sport|          2|\n",
      "+-------+--------+-----------+\n",
      "\n",
      "+-------+-----------+\n",
      "|user_id|count_click|\n",
      "+-------+-----------+\n",
      "|      1|          3|\n",
      "|      2|          3|\n",
      "|      5|          2|\n",
      "+-------+-----------+\n",
      "\n"
     ]
    }
   ],
   "source": [
    "df_a = df_a.filter(df_a[\"user_id\"].isNotNull())\n",
    "df_b = df_b.filter(df_b[\"user_id\"].isNotNull())\n",
    "df_a.createOrReplaceTempView(\"A\")\n",
    "df_b.createOrReplaceTempView(\"B\")\n",
    "df_a.show()\n",
    "df_b.show()\n",
    "\n",
    "# теперь нам нужно взять таблицу B и присоеденить к ней категорию из таблицы А"
   ]
  },
  {
   "cell_type": "markdown",
   "id": "e426a0a3",
   "metadata": {},
   "source": [
    "### 4. Любимая тематика новостей"
   ]
  },
  {
   "cell_type": "code",
   "execution_count": 16,
   "id": "c47412a3",
   "metadata": {},
   "outputs": [
    {
     "name": "stdout",
     "output_type": "stream",
     "text": [
      "+-------+----------+\n",
      "|user_id|topic_like|\n",
      "+-------+----------+\n",
      "|      1|     Sport|\n",
      "|      2|  Business|\n",
      "|      5|     Sport|\n",
      "+-------+----------+\n",
      "\n"
     ]
    }
   ],
   "source": [
    "# любимая тематика новостей\n",
    "topic_like = spark.sql(\"SELECT B.user_id,A.tag AS topic_like \"+\n",
    "                              \"FROM B, A \" +\n",
    "                              \"WHERE (B.user_id = A.user_id AND B.count_click = A.count_click)\")\n",
    "topic_like.show()\n"
   ]
  },
  {
   "cell_type": "code",
   "execution_count": 17,
   "id": "62b2edb6",
   "metadata": {},
   "outputs": [],
   "source": [
    "# добавим в общую таблицу любимую тематику новостей\n",
    "df_all = df_all.alias(\"A\").join(topic_like.alias(\"B\"), \\\n",
    "                               on = [F.col(\"A.user_id\")==F.col(\"B.user_id\")],\\\n",
    "                               how = \"left\").drop(F.col(\"B.user_id\"))"
   ]
  },
  {
   "cell_type": "markdown",
   "id": "891fb2c9",
   "metadata": {},
   "source": [
    "### 5. Любимый временной диапазон посещений"
   ]
  },
  {
   "cell_type": "code",
   "execution_count": 19,
   "id": "a596464a",
   "metadata": {},
   "outputs": [
    {
     "name": "stdout",
     "output_type": "stream",
     "text": [
      "+------+-----------+------------+\n",
      "|web_id|time_period|count_period|\n",
      "+------+-----------+------------+\n",
      "|     1|          1|           6|\n",
      "|     2|          1|           5|\n",
      "|     2|          5|           2|\n",
      "|     3|          1|           1|\n",
      "|     3|          3|           1|\n",
      "|     4|          1|           2|\n",
      "|     4|          3|           1|\n",
      "|     4|          5|           1|\n",
      "|     5|          1|           3|\n",
      "+------+-----------+------------+\n",
      "\n"
     ]
    }
   ],
   "source": [
    "#выберим какой период сколько раз был у каждого пользователя\n",
    "df_A = df_all.groupBy(\"web_id\",\"time_period\").agg(F.count(\"*\") \\\n",
    "                      .alias(\"count_period\")).orderBy(\"web_id\",\"time_period\")\n",
    "df_A.show()"
   ]
  },
  {
   "cell_type": "code",
   "execution_count": 20,
   "id": "8a710207",
   "metadata": {},
   "outputs": [
    {
     "name": "stdout",
     "output_type": "stream",
     "text": [
      "+------+-----------+\n",
      "|web_id|period_like|\n",
      "+------+-----------+\n",
      "|     1|          6|\n",
      "|     2|          5|\n",
      "|     3|          1|\n",
      "|     4|          2|\n",
      "|     5|          3|\n",
      "+------+-----------+\n",
      "\n"
     ]
    }
   ],
   "source": [
    "# найдем максимальное(любимое) значение периода\n",
    "df_B = df_A.groupBy(\"web_id\").agg(F.max(\"count_period\") \\\n",
    "                                  .alias(\"period_like\")) \\\n",
    "                                  .orderBy(\"web_id\")\n",
    "df_B.show()"
   ]
  },
  {
   "cell_type": "code",
   "execution_count": 21,
   "id": "32fcaa85",
   "metadata": {},
   "outputs": [],
   "source": [
    "#объединенная таблица (в общую таблицу добавил любимый период)\n",
    "df_all = df_all.alias(\"A\").join(df_B.alias(\"B\"),\\\n",
    "                                on = [F.col(\"A.web_id\")==F.col(\"B.web_id\")],\\\n",
    "                                how = \"left\").drop(F.col(\"B.web_id\"))\n",
    "\n"
   ]
  },
  {
   "cell_type": "markdown",
   "id": "cd3b84dd",
   "metadata": {},
   "source": [
    "### 7.   Разница в днях между созданием ЛК и датой последнего посещения. (-1 если ЛК нет)"
   ]
  },
  {
   "cell_type": "code",
   "execution_count": 23,
   "id": "1194abba",
   "metadata": {},
   "outputs": [
    {
     "name": "stdout",
     "output_type": "stream",
     "text": [
      "+------+-------------------+-------------------+------------+\n",
      "|web_id|                dpa|         last_visit|diff_in_days|\n",
      "+------+-------------------+-------------------+------------+\n",
      "|     1|2021-10-29 00:00:00|2021-11-23 07:49:25|          25|\n",
      "|     2|2021-11-22 00:00:00|2021-12-04 21:30:26|          12|\n",
      "|     3|               null|2021-11-25 15:21:26|          -1|\n",
      "|     4|               null|2021-12-07 21:56:39|          -1|\n",
      "|     5|2021-11-23 00:00:00|2021-11-23 07:56:16|           0|\n",
      "+------+-------------------+-------------------+------------+\n",
      "\n"
     ]
    }
   ],
   "source": [
    "#выберим дату последнего посещения пользователя\n",
    "# web_id - содержит id пользователя, dpa - дата создания lk\n",
    "lastvisit = df_all.groupBy(\"web_id\",\"dpa\").agg(F.max(\"event_time\") \\\n",
    "                      .alias(\"last_visit\")).orderBy(\"web_id\")\n",
    "#lastvisit.show()\n",
    "\n",
    "lastvisit = lastvisit.withColumn(\"diff_in_days\", F.datediff(F.col(\"last_visit\"),F.col(\"dpa\"))).fillna(value=-1)\n",
    "lastvisit.show()"
   ]
  },
  {
   "cell_type": "code",
   "execution_count": 24,
   "id": "7b78617a",
   "metadata": {},
   "outputs": [],
   "source": [
    "#объединенная таблица (в общую таблицу добавил diff_in_days)\n",
    "df_all = df_all.alias(\"A\").join(lastvisit.alias(\"B\"),\\\n",
    "                                on = [F.col(\"A.web_id\")==F.col(\"B.web_id\")],\\\n",
    "                                how = \"left\").drop(F.col(\"B.web_id\"))"
   ]
  },
  {
   "cell_type": "code",
   "execution_count": 25,
   "id": "ab64ba81",
   "metadata": {},
   "outputs": [
    {
     "data": {
      "text/plain": [
       "['web_id', 'type', 'page_id', 'tag', 'sign', 'event_time', 'time_period']"
      ]
     },
     "execution_count": 25,
     "metadata": {},
     "output_type": "execute_result"
    }
   ],
   "source": [
    "df_all.columns\n",
    "web.columns"
   ]
  },
  {
   "cell_type": "markdown",
   "id": "4b8cfd1e",
   "metadata": {},
   "source": [
    "### 8. Общее количество посещений сайта\n"
   ]
  },
  {
   "cell_type": "code",
   "execution_count": 26,
   "id": "af8103f5",
   "metadata": {},
   "outputs": [
    {
     "name": "stdout",
     "output_type": "stream",
     "text": [
      "+------+------------+\n",
      "|web_id|total_visits|\n",
      "+------+------------+\n",
      "|     1|           6|\n",
      "|     3|           2|\n",
      "|     5|           3|\n",
      "|     4|           4|\n",
      "|     2|           7|\n",
      "+------+------------+\n",
      "\n"
     ]
    }
   ],
   "source": [
    "# найдем максимальное(любимое) значение периода\n",
    "# df_B = df_A.groupBy(\"web_id\").agg(F.max(\"count_period\") \\\n",
    "#                                   .alias(\"period_like\")) \\\n",
    "#                                   .orderBy(\"web_id\")\n",
    "total_visits = web.groupBy(\"web_id\").agg(F.count(\"*\").alias(\"total_visits\"))\n",
    "total_visits.show()"
   ]
  },
  {
   "cell_type": "code",
   "execution_count": 27,
   "id": "f83cef89",
   "metadata": {},
   "outputs": [],
   "source": [
    "#объединенная таблица (в общую таблицу добавил total_visits)\n",
    "df_all = df_all.alias(\"A\").join(total_visits.alias(\"B\"),\\\n",
    "                                on = [F.col(\"A.web_id\")==F.col(\"B.web_id\")],\\\n",
    "                                how = \"left\").drop(F.col(\"B.web_id\"))"
   ]
  },
  {
   "cell_type": "markdown",
   "id": "7af97622",
   "metadata": {},
   "source": [
    "### 9. Средняя длина сессии(сессией считаем временной промежуток, который охватывает последовательность событий, которые происходили подряд с разницей не более 5 минут)."
   ]
  },
  {
   "cell_type": "markdown",
   "id": "114ccc8d",
   "metadata": {},
   "source": [
    "## формирование результирующего датасета"
   ]
  },
  {
   "cell_type": "code",
   "execution_count": 36,
   "id": "0163cca7",
   "metadata": {},
   "outputs": [
    {
     "name": "stdout",
     "output_type": "stream",
     "text": [
      "+-------+---+---+----------+-----------+-----+------------+------------+\n",
      "|user_id|age|sex|topic_like|period_like|lk_id|diff_in_days|total_visits|\n",
      "+-------+---+---+----------+-----------+-----+------------+------------+\n",
      "|      1| 22|  m|     Sport|          6|  101|          25|           6|\n",
      "|      1| 22|  m|     Sport|          6|  101|          25|           6|\n",
      "|      1| 22|  m|     Sport|          6|  101|          25|           6|\n",
      "|      1| 22|  m|     Sport|          6|  101|          25|           6|\n",
      "|      1| 22|  m|     Sport|          6|  101|          25|           6|\n",
      "|      1| 22|  m|     Sport|          6|  101|          25|           6|\n",
      "|      5| 27|  m|     Sport|          3|  105|           0|           3|\n",
      "|      5| 27|  m|     Sport|          3|  105|           0|           3|\n",
      "|      5| 27|  m|     Sport|          3|  105|           0|           3|\n",
      "|      2| 24|  m|  Business|          5|  102|          12|           7|\n",
      "|      2| 24|  m|  Business|          5|  102|          12|           7|\n",
      "|      2| 24|  m|  Business|          5|  102|          12|           7|\n",
      "|      2| 24|  m|  Business|          5|  102|          12|           7|\n",
      "|      2| 24|  m|  Business|          5|  102|          12|           7|\n",
      "|      2| 24|  m|  Business|          5|  102|          12|           7|\n",
      "|      2| 24|  m|  Business|          5|  102|          12|           7|\n",
      "+-------+---+---+----------+-----------+-----+------------+------------+\n",
      "\n"
     ]
    }
   ],
   "source": [
    "dashboard = df_all.select(\"user_id\",\"age\",\"sex\",\"topic_like\",\"period_like\",\"lk_id\",\"diff_in_days\",\"total_visits\").dropna()\n",
    "dashboard.show()"
   ]
  },
  {
   "cell_type": "code",
   "execution_count": 37,
   "id": "0ab09678",
   "metadata": {},
   "outputs": [],
   "source": [
    "# запись данных в postgres\n",
    "\n",
    "dashboard.write.format(\"jdbc\")\\\n",
    "    .option(\"url\", \"jdbc:postgresql://localhost:5432/Test\") \\\n",
    "    .option(\"driver\", \"org.postgresql.Driver\").option(\"dbtable\", \"dashboard\") \\\n",
    "    .mode(\"Overwrite\")\\\n",
    "    .option(\"user\", \"postgres\").option(\"password\", \"postgres\").save()"
   ]
  },
  {
   "cell_type": "code",
   "execution_count": null,
   "id": "a52ba08a",
   "metadata": {},
   "outputs": [],
   "source": []
  }
 ],
 "metadata": {
  "kernelspec": {
   "display_name": "Python 3 (ipykernel)",
   "language": "python",
   "name": "python3"
  },
  "language_info": {
   "codemirror_mode": {
    "name": "ipython",
    "version": 3
   },
   "file_extension": ".py",
   "mimetype": "text/x-python",
   "name": "python",
   "nbconvert_exporter": "python",
   "pygments_lexer": "ipython3",
   "version": "3.10.6"
  }
 },
 "nbformat": 4,
 "nbformat_minor": 5
}
