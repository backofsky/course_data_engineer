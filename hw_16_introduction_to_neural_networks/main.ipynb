{
  "cells": [
    {
      "cell_type": "code",
      "execution_count": 1,
      "outputs": [],
      "source": [
        "import torch\n",
        "import numpy as np\n",
        "import matplotlib.pyplot as plt\n",
        "from torchvision import datasets\n",
        "from torch.utils.data import DataLoader\n",
        "from torchvision.transforms import ToTensor\n",
        "from tqdm import tqdm\n",
        "import seaborn as sns"
      ],
      "metadata": {
        "pycharm": {
          "name": "#%%\n"
        },
        "id": "2tm9JvmzF49M"
      }
    },
    {
      "cell_type": "markdown",
      "source": [
        "### Подготовка данных для использования\n",
        " - Получение Датасета\n",
        " - Получение Даталоадера\n",
        " - Просмотр данных"
      ],
      "metadata": {
        "collapsed": false,
        "pycharm": {
          "name": "#%% md\n"
        },
        "id": "K4wl3qJGF49W"
      }
    },
    {
      "cell_type": "code",
      "execution_count": 2,
      "outputs": [],
      "source": [
        "train_dataset = datasets.MNIST(\n",
        "    root = './data',\n",
        "    train = True,\n",
        "    download = True,\n",
        "    transform=ToTensor()\n",
        ")\n",
        "test_dataset = datasets.MNIST(\n",
        "    root = './data',\n",
        "    train = False,\n",
        "    transform=ToTensor()\n",
        ")"
      ],
      "metadata": {
        "pycharm": {
          "name": "#%%\n"
        },
        "id": "5BYYUTi_F49Z"
      }
    },
    {
      "cell_type": "code",
      "execution_count": 3,
      "outputs": [],
      "source": [
        "BATCH_SIZE = 64"
      ],
      "metadata": {
        "pycharm": {
          "name": "#%%\n"
        },
        "id": "elLqyG5aF49a"
      }
    },
    {
      "cell_type": "code",
      "execution_count": 4,
      "outputs": [],
      "source": [
        "train_dataloader = DataLoader(train_dataset, batch_size=BATCH_SIZE, shuffle=True, drop_last=True)\n",
        "test_dataloader = DataLoader(test_dataset, batch_size=BATCH_SIZE, shuffle=True, drop_last=True)"
      ],
      "metadata": {
        "pycharm": {
          "name": "#%%\n"
        },
        "id": "vvhpPSMZF49b"
      }
    },
    {
      "cell_type": "code",
      "execution_count": 5,
      "outputs": [
        {
          "output_type": "execute_result",
          "data": {
            "text/plain": [
              "tensor([0, 3, 1, 7, 3, 6, 1, 9, 5, 6, 3, 8, 7, 6, 4, 0, 8, 6, 2, 4, 1, 2, 3, 4,\n",
              "        8, 5, 7, 2, 3, 8, 0, 8, 6, 4, 9, 7, 6, 9, 6, 9, 9, 3, 7, 1, 6, 3, 7, 0,\n",
              "        6, 4, 2, 6, 1, 8, 0, 8, 3, 7, 1, 4, 4, 1, 5, 9])"
            ]
          },
          "metadata": {},
          "execution_count": 5
        }
      ],
      "source": [
        "### Целевое значение\n",
        "next(iter(train_dataloader))[1]"
      ],
      "metadata": {
        "pycharm": {
          "name": "#%%\n"
        },
        "id": "OEBebBmsF49c",
        "outputId": "c4bfc7b0-b66f-4dab-e478-01bdbdeaf622",
        "colab": {
          "base_uri": "https://localhost:8080/"
        }
      }
    },
    {
      "cell_type": "code",
      "execution_count": 6,
      "outputs": [
        {
          "output_type": "execute_result",
          "data": {
            "text/plain": [
              "torch.Size([64, 1, 28, 28])"
            ]
          },
          "metadata": {},
          "execution_count": 6
        }
      ],
      "source": [
        "### Torch tensor\n",
        "next(iter(train_dataloader))[0].shape"
      ],
      "metadata": {
        "pycharm": {
          "name": "#%%\n"
        },
        "id": "QtWfk0IGF49f",
        "outputId": "3ca2c3ec-8c8d-4b4d-a0d7-38ab99b26be9",
        "colab": {
          "base_uri": "https://localhost:8080/"
        }
      }
    },
    {
      "cell_type": "code",
      "execution_count": 7,
      "outputs": [
        {
          "output_type": "execute_result",
          "data": {
            "text/plain": [
              "<matplotlib.image.AxesImage at 0x7f16df3e3820>"
            ]
          },
          "metadata": {},
          "execution_count": 7
        },
        {
          "output_type": "display_data",
          "data": {
            "text/plain": [
              "<Figure size 432x288 with 1 Axes>"
            ],
            "image/png": "[encoded data removed]"
          },
          "metadata": {
            "needs_background": "light"
          }
        }
      ],
      "source": [
        "for_show = next(iter(train_dataloader))[0]\n",
        "plt.imshow(for_show.numpy()[0][0])"
      ],
      "metadata": {
        "pycharm": {
          "name": "#%%\n"
        },
        "id": "RdgulippF49g",
        "outputId": "0f5b2962-75b5-4269-8a93-6300e0fb6457",
        "colab": {
          "base_uri": "https://localhost:8080/",
          "height": 283
        }
      }
    },
    {
      "cell_type": "markdown",
      "source": [
        "### Построим нейронную сеть, чтобы для решения задачи бинарной классфикации (является ли цифра 9-кой или нет)"
      ],
      "metadata": {
        "collapsed": false,
        "pycharm": {
          "name": "#%% md\n"
        },
        "id": "5fOPs_X-F49h"
      }
    },
    {
      "cell_type": "code",
      "execution_count": 8,
      "outputs": [],
      "source": [
        "class IsOne(torch.nn.Module):\n",
        "    def __init__(self):\n",
        "        super().__init__()\n",
        "        self.Linear1 = torch.nn.Linear(28*28, 256)\n",
        "        self.Linear2 = torch.nn.Linear(256, 64)\n",
        "        self.Linear3 = torch.nn.Linear(64, 1)\n",
        "        self.relu = torch.nn.ReLU()\n",
        "        self.Sigmoid = torch.nn.Sigmoid()\n",
        "    def forward(self, x):\n",
        "        x = x.squeeze(1)\n",
        "        x = x.flatten(1)\n",
        "        x = self.Linear1(x)\n",
        "        x = self.relu(x)\n",
        "        x = self.Linear2(x)\n",
        "        x = self.relu(x)\n",
        "        x = self.Linear3(x).squeeze(1)\n",
        "        x = self.Sigmoid(x)\n",
        "        return x"
      ],
      "metadata": {
        "pycharm": {
          "name": "#%%\n"
        },
        "id": "jGyMgfsqF49j"
      }
    },
    {
      "cell_type": "code",
      "execution_count": 9,
      "outputs": [],
      "source": [
        "model = IsOne()"
      ],
      "metadata": {
        "pycharm": {
          "name": "#%%\n"
        },
        "id": "cONBDc08F49k"
      }
    },
    {
      "cell_type": "markdown",
      "source": [
        "### Функция, вычисляющая лосс"
      ],
      "metadata": {
        "collapsed": false,
        "pycharm": {
          "name": "#%% md\n"
        },
        "id": "YGLqoyKSF49k"
      }
    },
    {
      "cell_type": "code",
      "execution_count": 10,
      "outputs": [],
      "source": [
        "def loss_function(true, pred):\n",
        "    loss = torch.nn.BCELoss()\n",
        "    return loss(pred, true)"
      ],
      "metadata": {
        "pycharm": {
          "name": "#%%\n"
        },
        "id": "fCB5WRPHF49l"
      }
    },
    {
      "cell_type": "markdown",
      "source": [
        "### Оптимизатор"
      ],
      "metadata": {
        "collapsed": false,
        "pycharm": {
          "name": "#%% md\n"
        },
        "id": "yWeTPqJ9F49m"
      }
    },
    {
      "cell_type": "code",
      "execution_count": 11,
      "outputs": [],
      "source": [
        "optimizer = torch.optim.SGD(params = model.parameters(), lr = 1e-3)"
      ],
      "metadata": {
        "pycharm": {
          "name": "#%%\n"
        },
        "id": "8JlXVWpzF49m"
      }
    },
    {
      "cell_type": "markdown",
      "source": [
        "### Построим процесс обучения нейронной сети"
      ],
      "metadata": {
        "collapsed": false,
        "pycharm": {
          "name": "#%% md\n"
        },
        "id": "99vKWaA_F49n"
      }
    },
    {
      "cell_type": "code",
      "execution_count": 12,
      "outputs": [],
      "source": [
        "NUM_EPOCHS = 100\n",
        "WANTED_LABEL = 9"
      ],
      "metadata": {
        "pycharm": {
          "name": "#%%\n"
        },
        "id": "yvcI0hELF49n"
      }
    },
    {
      "cell_type": "code",
      "execution_count": 13,
      "outputs": [
        {
          "output_type": "stream",
          "name": "stderr",
          "text": [
            "100%|██████████| 100/100 [17:45<00:00, 10.66s/it]\n"
          ]
        }
      ],
      "source": [
        "train_loss = []\n",
        "test_loss = []\n",
        "for epoch in tqdm(range(NUM_EPOCHS)):\n",
        "    model.train(True)\n",
        "    train_loss_epoch = 0\n",
        "    test_loss_epoch = 0\n",
        "    for X, y in train_dataloader:\n",
        "        model.zero_grad()\n",
        "        true = (y == WANTED_LABEL).float()\n",
        "        predictions = model.forward(X)\n",
        "        loss_value = loss_function(true, predictions)\n",
        "        loss_value.backward()\n",
        "        train_loss_epoch += loss_value.item()/len(train_dataloader)\n",
        "        optimizer.step()\n",
        "    train_loss.append(train_loss_epoch)\n",
        "    model.train(False)\n",
        "    for X, y in test_dataloader:\n",
        "        true = (y == WANTED_LABEL).float()\n",
        "        predictions = model.forward(X)\n",
        "        loss_value = loss_function(true, predictions)\n",
        "        test_loss_epoch += loss_value.item()/len(test_dataloader)\n",
        "    test_loss.append(test_loss_epoch)\n",
        "    # print(epoch, train_loss[-1], test_loss[-1])"
      ],
      "metadata": {
        "pycharm": {
          "name": "#%%\n"
        },
        "id": "yF8yTGT9F49n",
        "outputId": "a24bfb91-f388-455f-ce3d-aef3e5052014",
        "colab": {
          "base_uri": "https://localhost:8080/"
        }
      }
    },
    {
      "cell_type": "code",
      "execution_count": 14,
      "outputs": [
        {
          "output_type": "execute_result",
          "data": {
            "text/plain": [
              "<AxesSubplot:>"
            ]
          },
          "metadata": {},
          "execution_count": 14
        },
        {
          "output_type": "display_data",
          "data": {
            "text/plain": [
              "<Figure size 432x288 with 1 Axes>"
            ],
            "image/png": "[encoded data removed]"
          },
          "metadata": {
            "needs_background": "light"
          }
        }
      ],
      "source": [
        "sns.lineplot(x=range(len(train_loss)), y=train_loss)\n",
        "sns.lineplot(x=range(len(test_loss)), y=test_loss)"
      ],
      "metadata": {
        "pycharm": {
          "name": "#%%\n"
        },
        "id": "WadJNJRyF49o",
        "outputId": "b91ccee1-445c-43f2-9c8a-c178f589673c",
        "colab": {
          "base_uri": "https://localhost:8080/",
          "height": 283
        }
      }
    },
    {
      "cell_type": "code",
      "execution_count": 15,
      "outputs": [],
      "source": [
        "preds = []\n",
        "reals = []\n",
        "for X, y in test_dataloader:\n",
        "    preds.append(model(X).detach().numpy())\n",
        "    reals.append((y==WANTED_LABEL).int().numpy())"
      ],
      "metadata": {
        "pycharm": {
          "name": "#%%\n"
        },
        "id": "Wb4qjOwLF49o"
      }
    },
    {
      "cell_type": "code",
      "execution_count": 16,
      "outputs": [],
      "source": [
        "preds = (np.concatenate(preds)>=0.5).astype(int)"
      ],
      "metadata": {
        "pycharm": {
          "name": "#%%\n"
        },
        "id": "UG83mWk4F49p"
      }
    },
    {
      "cell_type": "code",
      "execution_count": 17,
      "outputs": [],
      "source": [
        "reals = np.concatenate(reals)"
      ],
      "metadata": {
        "pycharm": {
          "name": "#%%\n"
        },
        "id": "2PYIXMDvF49p"
      }
    },
    {
      "cell_type": "code",
      "execution_count": 18,
      "outputs": [],
      "source": [
        "from sklearn.metrics import accuracy_score, f1_score"
      ],
      "metadata": {
        "pycharm": {
          "name": "#%%\n"
        },
        "id": "GwA1BwcqF49q"
      }
    },
    {
      "cell_type": "code",
      "execution_count": 19,
      "outputs": [
        {
          "output_type": "execute_result",
          "data": {
            "text/plain": [
              "(0.9850761217948718, 0.924095771777891)"
            ]
          },
          "metadata": {},
          "execution_count": 19
        }
      ],
      "source": [
        "accuracy_score(preds, reals), f1_score(reals, preds)"
      ],
      "metadata": {
        "pycharm": {
          "name": "#%%\n"
        },
        "id": "_P48DggEF49q",
        "outputId": "4f5f3821-3e8a-4cb7-dad0-c1a2fc94466a",
        "colab": {
          "base_uri": "https://localhost:8080/"
        }
      }
    },
    {
      "cell_type": "markdown",
      "source": [
        "### Домашняя работа\n",
        "Изменить нейронную сеть следующим образом:\n",
        " - Чтобы она решала задачу не бинарной классификации, а многоклассовой (Для этого нужно использовать другую лосс функцию и функцию активации на выходе)\n",
        " - Чтобы в ней было не 2 скрытых слоя, а три\n",
        " - Чтобы кол-во нейронов подставлялось через массив, поданный при инициализации класса модели\n",
        " - Чтобы происходил dropout (вероятность 0.3) до первого скрытого слоя. Показать, как это изменение повлияло на результат работы модели на тестовой выборке.\n",
        " - Посчитать метрики классификации через classification report (sklearn) для каждого класса"
      ],
      "metadata": {
        "collapsed": false,
        "pycharm": {
          "name": "#%% md\n"
        },
        "id": "5epgGnVtF49r"
      }
    },
    {
      "cell_type": "code",
      "execution_count": 20,
      "outputs": [],
      "source": [
        "import torch\n",
        "import numpy as np\n",
        "import matplotlib.pyplot as plt\n",
        "from torchvision import datasets\n",
        "from torch.utils.data import DataLoader\n",
        "from torchvision.transforms import ToTensor\n",
        "import torch.nn.functional as F\n",
        "from tqdm import tqdm\n",
        "import seaborn as sns\n",
        "from sklearn.metrics import classification_report"
      ],
      "metadata": {
        "pycharm": {
          "name": "#%%\n"
        },
        "id": "SAdVzAphF49r"
      }
    },
    {
      "cell_type": "code",
      "source": [
        "# Подготовка данных для использования\n",
        "train_dataset = datasets.MNIST(\n",
        "    root='./data',\n",
        "    train=True,\n",
        "    download=True,\n",
        "    transform=ToTensor()\n",
        ")\n",
        "\n",
        "test_dataset = datasets.MNIST(\n",
        "    root='./data',\n",
        "    train=False,\n",
        "    transform=ToTensor()\n",
        ")"
      ],
      "metadata": {
        "id": "Y8-lD9OK1_uM"
      },
      "execution_count": 21,
      "outputs": []
    },
    {
      "cell_type": "code",
      "source": [
        "BATCH_SIZE = 64"
      ],
      "metadata": {
        "id": "mrl4vyzc2ID5"
      },
      "execution_count": 22,
      "outputs": []
    },
    {
      "cell_type": "code",
      "source": [
        "train_dataloader = DataLoader(train_dataset, batch_size=BATCH_SIZE, shuffle=True, drop_last=True)\n",
        "test_dataloader = DataLoader(test_dataset, batch_size=BATCH_SIZE, shuffle=True, drop_last=True)"
      ],
      "metadata": {
        "id": "Jx465nEL2LjK"
      },
      "execution_count": 23,
      "outputs": []
    },
    {
      "cell_type": "code",
      "source": [
        "# Целевое значение\n",
        "next(iter(train_dataloader))[1]"
      ],
      "metadata": {
        "colab": {
          "base_uri": "https://localhost:8080/"
        },
        "id": "Kl0tmWVl2qVI",
        "outputId": "32dc3f56-56e2-4adc-dc38-71013141efeb"
      },
      "execution_count": 24,
      "outputs": [
        {
          "output_type": "execute_result",
          "data": {
            "text/plain": [
              "tensor([3, 6, 9, 6, 7, 6, 6, 4, 4, 1, 5, 5, 4, 7, 7, 1, 9, 1, 9, 2, 2, 2, 4, 3,\n",
              "        9, 8, 9, 9, 3, 5, 5, 1, 8, 4, 3, 7, 5, 8, 6, 4, 2, 7, 4, 9, 7, 0, 1, 0,\n",
              "        9, 6, 5, 9, 0, 7, 8, 2, 6, 3, 7, 0, 2, 2, 1, 3])"
            ]
          },
          "metadata": {},
          "execution_count": 24
        }
      ]
    },
    {
      "cell_type": "code",
      "source": [
        "# Torch tensor\n",
        "next(iter(train_dataloader))[0].shape"
      ],
      "metadata": {
        "colab": {
          "base_uri": "https://localhost:8080/"
        },
        "id": "JDoQoSKl2zLA",
        "outputId": "6ea4c275-ba03-482a-c518-6882fcd4bb19"
      },
      "execution_count": 25,
      "outputs": [
        {
          "output_type": "execute_result",
          "data": {
            "text/plain": [
              "torch.Size([64, 1, 28, 28])"
            ]
          },
          "metadata": {},
          "execution_count": 25
        }
      ]
    },
    {
      "cell_type": "code",
      "source": [
        "for_show = next(iter(train_dataloader))[0]\n",
        "plt.imshow(for_show.numpy()[0][0])"
      ],
      "metadata": {
        "colab": {
          "base_uri": "https://localhost:8080/",
          "height": 283
        },
        "id": "gw6uc1zv23Bv",
        "outputId": "1d7f3da1-0fa6-4eb1-9532-48c452a47cd1"
      },
      "execution_count": 26,
      "outputs": [
        {
          "output_type": "execute_result",
          "data": {
            "text/plain": [
              "<matplotlib.image.AxesImage at 0x7f16dd350400>"
            ]
          },
          "metadata": {},
          "execution_count": 26
        },
        {
          "output_type": "display_data",
          "data": {
            "text/plain": [
              "<Figure size 432x288 with 1 Axes>"
            ],
            "image/png": "[encoded data removed]"
          },
          "metadata": {
            "needs_background": "light"
          }
        }
      ]
    },
    {
      "cell_type": "markdown",
      "source": [
        "## Построим нейронную сеть, чтобы для решения задачи многоклассовой классификации"
      ],
      "metadata": {
        "id": "9I3tpE643j4w"
      }
    },
    {
      "cell_type": "code",
      "source": [
        "class MnistClassifier(torch.nn.Module):\n",
        "    def __init__(self, input_dim, hidden_dims, output_dim, dropout_prob):\n",
        "        super().__init__()\n",
        "        self.input_dim = input_dim\n",
        "        self.hidden_dims = hidden_dims\n",
        "        self.output_dim = output_dim\n",
        "        \n",
        "        self.dropout_prob = dropout_prob\n",
        "        \n",
        "        # Первый слой\n",
        "        self.fc1 = torch.nn.Linear(input_dim, hidden_dims[0])\n",
        "        self.relu1 = torch.nn.ReLU()\n",
        "        self.dropout1 = torch.nn.Dropout(p=dropout_prob)\n",
        "        \n",
        "        # Второй слой\n",
        "        self.fc2 = torch.nn.Linear(hidden_dims[0], hidden_dims[1])\n",
        "        self.relu2 = torch.nn.ReLU()\n",
        "        self.dropout2 = torch.nn.Dropout(p=dropout_prob)\n",
        "        \n",
        "        # Третий слой\n",
        "        self.fc3 = torch.nn.Linear(hidden_dims[1], hidden_dims[2])\n",
        "        self.relu3 = torch.nn.ReLU()\n",
        "        self.dropout3 = torch.nn.Dropout(p=dropout_prob)\n",
        "        \n",
        "        # Выходной слой\n",
        "        self.out = torch.nn.Linear(hidden_dims[2], output_dim)\n",
        "        self.softmax = torch.nn.Softmax(dim=1)\n",
        "\n",
        "    def forward(self, x):\n",
        "        x = x.view(-1, self.input_dim)\n",
        "        \n",
        "        # Применяем первый слой, активацию и dropout\n",
        "        x = self.fc1(x)\n",
        "        x = self.relu1(x)\n",
        "        x = self.dropout1(x)\n",
        "    \n",
        "        # Применяем второй слой, активацию и dropout\n",
        "        x = self.fc2(x)\n",
        "        x = self.relu2(x)\n",
        "        x = self.dropout2(x)\n",
        "    \n",
        "        # Применяем третий слой, активацию и dropout\n",
        "        x = self.fc3(x)\n",
        "        x = self.relu3(x)\n",
        "        x = self.dropout3(x)\n",
        "    \n",
        "        # Применяем выходной слой и softmax\n",
        "        x = self.out(x)\n",
        "        x = self.softmax(x)\n",
        "    \n",
        "        return x"
      ],
      "metadata": {
        "id": "v-XHQM773rNv"
      },
      "execution_count": 27,
      "outputs": []
    },
    {
      "cell_type": "code",
      "source": [
        "model = MnistClassifier(input_dim=28*28, hidden_dims=[256, 128, 64], output_dim=10, dropout_prob=0.3)"
      ],
      "metadata": {
        "id": "mU-bFdvj3z22"
      },
      "execution_count": 28,
      "outputs": []
    },
    {
      "cell_type": "markdown",
      "source": [
        "### Функция, вычисляющая лосс"
      ],
      "metadata": {
        "id": "IAmT6BRR5Jb6"
      }
    },
    {
      "cell_type": "code",
      "source": [
        "def loss_function(pred, true):\n",
        "    loss = torch.nn.CrossEntropyLoss()\n",
        "    return loss(pred, true)"
      ],
      "metadata": {
        "id": "yEkfjysp5KH0"
      },
      "execution_count": 29,
      "outputs": []
    },
    {
      "cell_type": "markdown",
      "source": [
        "### Построим процесс обучения нейронной сети\n"
      ],
      "metadata": {
        "id": "hU3hJp7m4nJM"
      }
    },
    {
      "cell_type": "code",
      "source": [
        "NUM_EPOCHS = 100\n",
        "device = torch.device(\"cuda\" if torch.cuda.is_available() else \"cpu\")\n",
        "model.to(device)"
      ],
      "metadata": {
        "colab": {
          "base_uri": "https://localhost:8080/"
        },
        "id": "nGeZN2h_4CM1",
        "outputId": "4af58c8d-b482-4779-f15b-0349243b34d6"
      },
      "execution_count": 30,
      "outputs": [
        {
          "output_type": "execute_result",
          "data": {
            "text/plain": [
              "MnistClassifier(\n",
              "  (fc1): Linear(in_features=784, out_features=256, bias=True)\n",
              "  (relu1): ReLU()\n",
              "  (dropout1): Dropout(p=0.3, inplace=False)\n",
              "  (fc2): Linear(in_features=256, out_features=128, bias=True)\n",
              "  (relu2): ReLU()\n",
              "  (dropout2): Dropout(p=0.3, inplace=False)\n",
              "  (fc3): Linear(in_features=128, out_features=64, bias=True)\n",
              "  (relu3): ReLU()\n",
              "  (dropout3): Dropout(p=0.3, inplace=False)\n",
              "  (out): Linear(in_features=64, out_features=10, bias=True)\n",
              "  (softmax): Softmax(dim=1)\n",
              ")"
            ]
          },
          "metadata": {},
          "execution_count": 30
        }
      ]
    },
    {
      "cell_type": "code",
      "source": [
        "train_loss = []\n",
        "test_loss = []\n",
        "\n",
        "for epoch in tqdm(range(NUM_EPOCHS)):\n",
        "    model.train(True)\n",
        "    train_loss_epoch = 0\n",
        "    test_loss_epoch = 0\n",
        "    \n",
        "    for X, y in train_dataloader:\n",
        "        X, y = X.to(device), y.to(device)\n",
        "        model.zero_grad()\n",
        "        predictions = model(X)\n",
        "        loss_value = F.cross_entropy(predictions, y.flatten().long())\n",
        "        loss_value.backward()\n",
        "        train_loss_epoch += loss_value.item() / len(train_dataloader)\n",
        "        optimizer.step()\n",
        "        \n",
        "    train_loss.append(train_loss_epoch)\n",
        "    model.train(False)\n",
        "    \n",
        "    with torch.no_grad():\n",
        "        model.eval()\n",
        "        test_loss_epoch = 0\n",
        "        for X, y in test_dataloader:\n",
        "            X, y = X.to(device), y.to(device)\n",
        "            predictions = model.forward(X)\n",
        "            loss_value = loss_function(predictions, y.squeeze().to(torch.long))\n",
        "            test_loss_epoch += loss_value.item()/len(test_dataloader)\n",
        "        \n",
        "    test_loss.append(test_loss_epoch)"
      ],
      "metadata": {
        "colab": {
          "base_uri": "https://localhost:8080/"
        },
        "id": "H659b0AC4wVs",
        "outputId": "29cfa0c0-40cf-48fd-861e-7930f72346a9"
      },
      "execution_count": 31,
      "outputs": [
        {
          "output_type": "stream",
          "name": "stderr",
          "text": [
            "100%|██████████| 100/100 [18:44<00:00, 11.24s/it]\n"
          ]
        }
      ]
    },
    {
      "cell_type": "code",
      "source": [
        "sns.lineplot(x=range(len(train_loss)), y=train_loss)\n",
        "sns.lineplot(x=range(len(test_loss)), y=test_loss)"
      ],
      "metadata": {
        "colab": {
          "base_uri": "https://localhost:8080/",
          "height": 294
        },
        "id": "36_melwG4zvd",
        "outputId": "785a9677-8ce1-43e2-8eee-28cd59b06435"
      },
      "execution_count": 32,
      "outputs": [
        {
          "output_type": "execute_result",
          "data": {
            "text/plain": [
              "<AxesSubplot:>"
            ]
          },
          "metadata": {},
          "execution_count": 32
        },
        {
          "output_type": "display_data",
          "data": {
            "text/plain": [
              "<Figure size 432x288 with 1 Axes>"
            ],
            "image/png": "[encoded data removed]"
          },
          "metadata": {
            "needs_background": "light"
          }
        }
      ]
    },
    {
      "cell_type": "code",
      "source": [
        "preds = []\n",
        "reals = []\n",
        "for X, y in test_dataloader:\n",
        "  preds.append(torch.argmax(model(X), dim=1).detach().numpy())\n",
        "  reals.append(y.numpy())"
      ],
      "metadata": {
        "id": "G7iba-gv5fU3"
      },
      "execution_count": 33,
      "outputs": []
    },
    {
      "cell_type": "code",
      "source": [
        "preds = np.concatenate(preds)"
      ],
      "metadata": {
        "id": "Chsz88hq5n8r"
      },
      "execution_count": 34,
      "outputs": []
    },
    {
      "cell_type": "code",
      "source": [
        "reals = np.concatenate(reals)"
      ],
      "metadata": {
        "id": "xsWiQ5385pzV"
      },
      "execution_count": 35,
      "outputs": []
    },
    {
      "cell_type": "code",
      "source": [
        "from sklearn.metrics import classification_report"
      ],
      "metadata": {
        "id": "eVbandEG5rSy"
      },
      "execution_count": 36,
      "outputs": []
    },
    {
      "cell_type": "code",
      "source": [
        "print(classification_report(reals, preds, zero_division=0))"
      ],
      "metadata": {
        "colab": {
          "base_uri": "https://localhost:8080/"
        },
        "id": "ekCqbd7P5stT",
        "outputId": "c4322e79-83a0-4d37-bc03-7e1347d42efb"
      },
      "execution_count": 37,
      "outputs": [
        {
          "output_type": "stream",
          "name": "stdout",
          "text": [
            "              precision    recall  f1-score   support\n",
            "\n",
            "           0       0.10      1.00      0.18       980\n",
            "           1       0.00      0.00      0.00      1133\n",
            "           2       0.00      0.00      0.00      1030\n",
            "           3       0.00      0.00      0.00      1008\n",
            "           4       0.00      0.00      0.00       981\n",
            "           5       0.00      0.00      0.00       889\n",
            "           6       0.00      0.00      0.00       957\n",
            "           7       0.00      0.00      0.00      1027\n",
            "           8       0.00      0.00      0.00       971\n",
            "           9       0.00      0.00      0.00      1008\n",
            "\n",
            "    accuracy                           0.10      9984\n",
            "   macro avg       0.01      0.10      0.02      9984\n",
            "weighted avg       0.01      0.10      0.02      9984\n",
            "\n"
          ]
        }
      ]
    },
    {
      "cell_type": "markdown",
      "source": [
        "Выводы.\n",
        "\n",
        "Результаты метрик для первой модели выглядят гораздо лучше, чем для второй модели. В первой модели точность составляет 0.98, а полнота - 0.92. Это говорит о том, что модель правильно классифицирует большинство изображений и способна распознать многие изображения, которые относятся к классу.\n",
        "\n",
        "Вторая модель, с другой стороны, имеет очень низкие результаты метрик. Точность для каждого класса составляет 0.00, что означает, что модель не может корректно классифицировать изображения ни для одного из классов. \n",
        "\n",
        "Из всего выше сказанного можно заключить, что первая модель является более эффективной, чем вторая модель, в распознавании изображений."
      ],
      "metadata": {
        "id": "rTMwkaodXKSn"
      }
    }
  ],
  "metadata": {
    "kernelspec": {
      "display_name": "Python 3",
      "language": "python",
      "name": "python3"
    },
    "language_info": {
      "codemirror_mode": {
        "name": "ipython",
        "version": 2
      },
      "file_extension": ".py",
      "mimetype": "text/x-python",
      "name": "python",
      "nbconvert_exporter": "python",
      "pygments_lexer": "ipython2",
      "version": "2.7.6"
    },
    "colab": {
      "provenance": []
    }
  },
  "nbformat": 4,
  "nbformat_minor": 0
}